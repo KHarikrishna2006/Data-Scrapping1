{
 "cells": [
  {
   "cell_type": "code",
   "execution_count": 1,
   "id": "287a25e9-207c-4a4e-af79-d12420f9b821",
   "metadata": {},
   "outputs": [
    {
     "name": "stdout",
     "output_type": "stream",
     "text": [
      "Requirement already satisfied: bs4 in c:\\users\\hari krishna\\anaconda3\\lib\\site-packages (0.0.2)\n",
      "Requirement already satisfied: beautifulsoup4 in c:\\users\\hari krishna\\anaconda3\\lib\\site-packages (from bs4) (4.12.3)\n",
      "Requirement already satisfied: soupsieve>1.2 in c:\\users\\hari krishna\\anaconda3\\lib\\site-packages (from beautifulsoup4->bs4) (2.5)\n",
      "    name age\n",
      "0  Alice  25\n",
      "1    Bob  30\n"
     ]
    }
   ],
   "source": [
    "!pip install bs4\n",
    "from bs4 import BeautifulSoup\n",
    "import pandas as pd\n",
    "# Sample HTML document\n",
    "html_doc = \"\"\"\n",
    "<html>\n",
    "<head><title>World's Population</title></head>\n",
    "<body>\n",
    "    <h1>Main Heading</h1>\n",
    "    <p class=\"xyz\">This is a paragraph.</p>\n",
    "    <p class=\"content\">Another paragraph with <a href=\"https://example.com\">a link</a>.</p>\n",
    "\n",
    "    <div id=\"container\">\n",
    "        <ul>\n",
    "            <li class=\"item\">Item 1</li>\n",
    "            <li class=\"item\">Item 2</li>\n",
    "            <li class=\"item\">Item 3</li>\n",
    "        </ul>\n",
    "    </div>\n",
    "\n",
    "    <table>\n",
    "        <tr><th>Name</th><th>Age</th></tr>\n",
    "        <tr><td>Alice</td><td>25</td></tr>\n",
    "        <tr><td>Bob</td><td>30</td></tr>\n",
    "    </table>\n",
    "</body>\n",
    "</html>\n",
    "\"\"\"\n",
    "s= BeautifulSoup(html_doc, \"html.parser\")\n",
    "x=s.find_all(\"tr\")\n",
    "name=[]\n",
    "age=[]\n",
    "td=s.find_all(\"td\")\n",
    "for i in td:\n",
    "  if(i.text.isdigit()):\n",
    "    age.append(i.text)\n",
    "  else:\n",
    "    name.append(i.text)\n",
    "di={}\n",
    "di.update({'name':name})\n",
    "di.update({'age':age})\n",
    "print(pd.DataFrame(di))\n"
   ]
  },
  {
   "cell_type": "code",
   "execution_count": null,
   "id": "d87b336b-2d11-4a68-a92a-7d9cf6c7e9de",
   "metadata": {},
   "outputs": [],
   "source": []
  }
 ],
 "metadata": {
  "kernelspec": {
   "display_name": "Python 3 (ipykernel)",
   "language": "python",
   "name": "python3"
  },
  "language_info": {
   "codemirror_mode": {
    "name": "ipython",
    "version": 3
   },
   "file_extension": ".py",
   "mimetype": "text/x-python",
   "name": "python",
   "nbconvert_exporter": "python",
   "pygments_lexer": "ipython3",
   "version": "3.12.4"
  }
 },
 "nbformat": 4,
 "nbformat_minor": 5
}
